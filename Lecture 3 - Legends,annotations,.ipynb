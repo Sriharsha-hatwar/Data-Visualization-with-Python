{
 "cells": [
  {
   "cell_type": "markdown",
   "metadata": {},
   "source": [
    "Legends are used when several kinds of plots and curves are displayed on the same axis.\n",
    "Legends is a box with labels to help readers distinguish distinct features.\n",
    " "
   ]
  },
  {
   "cell_type": "code",
   "execution_count": 2,
   "metadata": {
    "collapsed": false
   },
   "outputs": [
    {
     "name": "stderr",
     "output_type": "stream",
     "text": [
      "C:\\Users\\Harsha\\Anaconda3\\lib\\site-packages\\matplotlib\\axes\\_axes.py:545: UserWarning: No labelled objects found. Use label='...' kwarg on individual plots.\n",
      "  warnings.warn(\"No labelled objects found. \"\n"
     ]
    },
    {
     "data": {
      "image/png": "[encoded data removed]",
      "text/plain": [
       "<matplotlib.figure.Figure at 0x26d80662fd0>"
      ]
     },
     "metadata": {},
     "output_type": "display_data"
    }
   ],
   "source": [
    "import matplotlib.pyplot as plt\n",
    "%matplotlib inline\n",
    "#..\n",
    "#plt.scatter(setosa_len,setosa_wed,marker='o',color='red',label='setosa')\n",
    "#plt.scatter(versicolor_len,versicolor_wid,marker='o',color='greeen' , label='versicolor')\n",
    "#plt.scatter(virginica_len,virginica_wid,marker='o',color='blue',label='virginica')\n",
    "#each scatter plot is given a label to use in the legend.\n",
    "#and the legend is created with the legend command.\n",
    "#########################################################################################################\n",
    "plt.legend(loc='upper right') #arg loc specifies where to put the legend. (integer code | string specifying where?->upper left..)\n",
    "plt.title('Iris data')\n",
    "plt.xlabel('sepal length (cm)')\n",
    "plt.ylabel('sepal widyth (cm)')\n",
    "plt.show()"
   ]
  },
  {
   "cell_type": "markdown",
   "metadata": {},
   "source": [
    "PLot Annotations\n",
    "\n",
    "adds text to the figure\n",
    "\n",
    "also draws arrows from text to some other features in the graph\n",
    "\n",
    "*flexible specification of cordinated in the API*\n",
    "\n",
    "arrowprops keyword used to customize the arrows using a dictionary of properties.->like width,color,etc.\n",
    "\n",
    "lets avoid text and use annotate directly into the graph"
   ]
  },
  {
   "cell_type": "code",
   "execution_count": 3,
   "metadata": {
    "collapsed": false
   },
   "outputs": [
    {
     "data": {
      "image/png": "[encoded data removed]",
      "text/plain": [
       "<matplotlib.figure.Figure at 0x26d80ad0ac8>"
      ]
     },
     "metadata": {},
     "output_type": "display_data"
    },
    {
     "data": {
      "text/plain": [
       "<matplotlib.text.Annotation at 0x26d80d26c88>"
      ]
     },
     "execution_count": 3,
     "metadata": {},
     "output_type": "execute_result"
    },
    {
     "data": {
      "image/png": "[encoded data removed]",
      "text/plain": [
       "<matplotlib.figure.Figure at 0x26d80ccbb00>"
      ]
     },
     "metadata": {},
     "output_type": "display_data"
    }
   ],
   "source": [
    "plt.annotate('sentosa',xy=(5.0,3.5)) # \"s\"=basically the first arg-> 'the text' and the second arg->\"xy\"='the coordinates'\n",
    "plt.annotate('sentosa',xy=(7.25,3.5))\n",
    "plt.annotate('sentosa',xy=(5.0,2.0))\n",
    "\n",
    "plt.show()\n",
    "#xytext argument in the fn is used to draw the arraw to the specified location.\n",
    "#arrowprops is used to draw the arrow\n",
    "plt.annotate('sentosa',xy=(5.0,3.5),xytext=(4.25,4.0),arrowprops={'color':'red'}) # \"s\"=basically the first arg-> 'the text' and the second arg->\"xy\"='the coordinates'\n",
    "plt.annotate('sentosa',xy=(7.25,3.5),xytext=(6.5,4.0),arrowprops={'color':'blue'})\n",
    "plt.annotate('sentosa',xy=(5.0,2.0),xytext=(5.5,1.75),arrowprops={'color':'green'})\n",
    "\n",
    "\n"
   ]
  },
  {
   "cell_type": "code",
   "execution_count": null,
   "metadata": {
    "collapsed": true
   },
   "outputs": [],
   "source": [
    "#default plot styles are controlled by stylesheets in matplotlib\n",
    "defaults for line widths , points,background.\n",
    "we can switch between global style sheets using plt.style.use()\n",
    "we can see what styles are available using plt.style.avaialable\n",
    "ex:\n",
    "    plt.style.use('ggplot')\n",
    "    "
   ]
  }
 ],
 "metadata": {
  "kernelspec": {
   "display_name": "Python 3",
   "language": "python",
   "name": "python3"
  },
  "language_info": {
   "codemirror_mode": {
    "name": "ipython",
    "version": 3
   },
   "file_extension": ".py",
   "mimetype": "text/x-python",
   "name": "python",
   "nbconvert_exporter": "python",
   "pygments_lexer": "ipython3",
   "version": "3.6.0"
  }
 },
 "nbformat": 4,
 "nbformat_minor": 2
}
