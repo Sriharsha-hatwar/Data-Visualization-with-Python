{
 "cells": [
  {
   "cell_type": "markdown",
   "metadata": {},
   "source": [
    "<h1>Strategies</h1>\n",
    "<h4>1)plotting graphs on the same axis</h4>\n",
    "\n",
    "<h4>2)creating axes within the figure.</h4>\n",
    "\n",
    "<h4>3)creating subplots within  a figure.</h4>"
   ]
  },
  {
   "cell_type": "code",
   "execution_count": 2,
   "metadata": {
    "collapsed": false
   },
   "outputs": [],
   "source": [
    "import matplotlib.pyplot as plt\n",
    "%matplotlib inline\n",
    "#plt.plot(X-axes,Y-axes,colour) -> not yet drawn\n",
    "#plt.plot(t,dew point,'blue')->overlays on the same axis.\n",
    "#plt.xlabel('date')\n",
    "#pl.ylabel('Temperature and dew point.')\n",
    "#plt.show()//actually renders on the screen\n",
    "##using multiple axis - > how ? -->     'axes() command' as displaying  in the same axes might become messy.\n",
    "#plt.axes() #should be put before plt.plot()# plt.axes()wil make axis to the lef tof the figure.\n",
    "#plt.title() #to give the title.\n",
    "#plt.axes() #second axes will make axes on the right of the figure\n",
    "#aftre all the commands are succesfully executeed. two figures are drawn.\n",
    "#syntax of the axes command -> axes([x_lo , y_lo , width , height])\n",
    "#these paramaaters are represented in figure units. -> (0,1)\n",
    "#subplot() creates grid of axes. like 1X1 or 2X1 or 2X2\n",
    "#################################################\n",
    "#now instead of placing axes() place subplot() with three params.\n",
    "##->SYNTAX=>subplot(nrows ,ncols , nsubplot) ex-> subplot(2,1,1) for next subplot-> subplot(2,1,2)\n",
    "#plt.tight_layout() #pads spaces between subplots.\n",
    "#subplots are started with index 1\n"
   ]
  }
 ],
 "metadata": {
  "kernelspec": {
   "display_name": "Python 3",
   "language": "python",
   "name": "python3"
  },
  "language_info": {
   "codemirror_mode": {
    "name": "ipython",
    "version": 3
   },
   "file_extension": ".py",
   "mimetype": "text/x-python",
   "name": "python",
   "nbconvert_exporter": "python",
   "pygments_lexer": "ipython3",
   "version": "3.6.0"
  }
 },
 "nbformat": 4,
 "nbformat_minor": 2
}
