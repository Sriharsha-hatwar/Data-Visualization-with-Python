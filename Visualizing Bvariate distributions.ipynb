{
 "cells": [
  {
   "cell_type": "code",
   "execution_count": 7,
   "metadata": {
    "collapsed": false
   },
   "outputs": [
    {
     "name": "stderr",
     "output_type": "stream",
     "text": [
      "C:\\Users\\Harsha\\Anaconda3\\lib\\site-packages\\ipykernel\\__main__.py:7: VisibleDeprecationWarning: using a non-integer number instead of an integer will result in an error in the future\n"
     ]
    },
    {
     "data": {
      "image/png": "[encoded data removed]",
      "text/plain": [
       "<matplotlib.figure.Figure at 0x1e8a90672b0>"
      ]
     },
     "metadata": {},
     "output_type": "display_data"
    }
   ],
   "source": [
    "#Histograms in 1D\n",
    "\n",
    "import numpy as np\n",
    "import matplotlib.pyplot as plt\n",
    "%matplotlib inline\n",
    "mean , standard_dev = 0,0.1\n",
    "x = np.random.rand(mean,standard_dev,1000)\n",
    "counts,bins,patches = plt.hist(x,bins=25)"
   ]
  },
  {
   "cell_type": "code",
   "execution_count": null,
   "metadata": {
    "collapsed": true
   },
   "outputs": [],
   "source": [
    "#in 1D only line segment type of histograms are available.\n",
    "#for data in 2D bins can be in more general shape.\n",
    "#we will consider two kinds here.\n",
    "#rectangles and hexagons\n",
    "#############################################################\n",
    "#rectangular bins\n",
    "plt.hist2d(x,y,bins=(10,20)) #x and y are 1D arrays of same length\n",
    "plt.colorbar() #easier to interpret.\n",
    "plt.xlabel('weights in ($\\mathrm{kg}$))')\n",
    "plt.ylabel('acceleration in ($mathrm{ms}^{-2}$)')\n",
    "plt.show() \n",
    "\n",
    "#--------------------------------------------\n",
    "plt.hexbin(x,y,gridsize=(10,20)) #hexagular tiling ->gridsize takes the number of hexagon in the horizontal and \n",
    "#vertical direction\n"
   ]
  }
 ],
 "metadata": {
  "kernelspec": {
   "display_name": "Python 3",
   "language": "python",
   "name": "python3"
  },
  "language_info": {
   "codemirror_mode": {
    "name": "ipython",
    "version": 3
   },
   "file_extension": ".py",
   "mimetype": "text/x-python",
   "name": "python",
   "nbconvert_exporter": "python",
   "pygments_lexer": "ipython3",
   "version": "3.6.0"
  }
 },
 "nbformat": 4,
 "nbformat_minor": 2
}
