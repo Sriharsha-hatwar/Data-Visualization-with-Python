{
 "cells": [
  {
   "cell_type": "code",
   "execution_count": 3,
   "metadata": {
    "collapsed": false
   },
   "outputs": [],
   "source": [
    "import pandas as pd\n"
   ]
  },
  {
   "cell_type": "code",
   "execution_count": 4,
   "metadata": {
    "collapsed": true
   },
   "outputs": [],
   "source": [
    "#pandas data frame is a series that share a common index.\n",
    "#pandas.tseries.index.DateTimeIndex = this  a data structure used to store time series data as an index.\n",
    "#--------------------------------------------------------------------\n",
    "#plt.plot(weather) #plotall the columns with the plot command.\n",
    "#but not so useful\n",
    "#-------------------------------------\n",
    "#if a series consists of dates and times then the series is a time series\n",
    "#Datetime represents time stamps\n",
    "\n",
    "#-------------------\n",
    "#pandas time series important convenience is that it can be sliced using strings to represent complete time period.\n",
    "#eg:\n",
    "#    weather['2010-07-04'] => this slices all 24 hourly measurements on july 4th 2010.\n",
    "#    weather['2010-03':'2010-04'] march and april 2010 covers 61 days and its inclusive.\n",
    "#    weather['2010-05'] => slices the month may 2010\n",
    " "
   ]
  },
  {
   "cell_type": "code",
   "execution_count": 5,
   "metadata": {
    "collapsed": true
   },
   "outputs": [],
   "source": [
    "#as an example we will slice the tempearature measurements from the weather data set.\n",
    "#temparature = weather['Temperature']\n",
    "#march_apr = temparature['2010-03':'2010-04']\n",
    "#march_apr.shape\n",
    "#march_apr.iloc[-4:]#extract last four entries from the time series.\n"
   ]
  },
  {
   "cell_type": "code",
   "execution_count": 7,
   "metadata": {
    "collapsed": false
   },
   "outputs": [],
   "source": [
    "#to plot index vs temparature and dewpoint\n",
    "import matplotlib.pyplot as plt\n",
    "%matplotlib inline\n",
    "#plt.plot(temparature['2010-01'],color='red',label='temperature')\n",
    "#dew_point = weather['Dewpoint'];\n",
    "#plt.plot(tdew_point['2010-01'],color='blue',label='dew point')\n",
    "#plt.legend(loc='upper right')\n",
    "#plt.xticks(roation = 66)\n",
    "#plt.show()"
   ]
  },
  {
   "cell_type": "code",
   "execution_count": null,
   "metadata": {
    "collapsed": true
   },
   "outputs": [],
   "source": [
    "jan = temperature['2010-01']\n",
    "dates = jan.index[::96] # every 4th day , every 96th ele\n",
    "print(dates)\n",
    "labels = dates.strftime('%b %d') #make formatted labels\n",
    "#plt.plot(temparature['2010-01'],color='red',label='temperature')\n",
    "#dew_point = weather['Dewpoint'];\n",
    "#plt.plot(tdew_point['2010-01'],color='blue',label='dew point')\n",
    "#plt.legend(loc='upper right')\n",
    "#plt.xticks(dates , labels ,roation = 66)\n",
    "#plt.show()"
   ]
  }
 ],
 "metadata": {
  "kernelspec": {
   "display_name": "Python 3",
   "language": "python",
   "name": "python3"
  },
  "language_info": {
   "codemirror_mode": {
    "name": "ipython",
    "version": 3
   },
   "file_extension": ".py",
   "mimetype": "text/x-python",
   "name": "python",
   "nbconvert_exporter": "python",
   "pygments_lexer": "ipython3",
   "version": "3.6.0"
  }
 },
 "nbformat": 4,
 "nbformat_minor": 2
}
