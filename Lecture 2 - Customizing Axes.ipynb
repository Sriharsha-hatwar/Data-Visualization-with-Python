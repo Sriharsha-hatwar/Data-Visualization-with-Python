{
 "cells": [
  {
   "cell_type": "markdown",
   "metadata": {},
   "source": [
    "Adjusting plots/ adjusting X and Y plots in subplots.\n"
   ]
  },
  {
   "cell_type": "code",
   "execution_count": 1,
   "metadata": {
    "collapsed": true
   },
   "outputs": [],
   "source": [
    "import matplotlib.pyplot as plt\n",
    "%matplotlib inline\n",
    "#using plt.axis()\n",
    "#plt.axes([xmin,xmax,ymin,ymax]) -> lower and uper limits for both x and y axis.\n",
    "#or we can also set them individually using plt.xlim([xmin,xmax]) and plt.ylim([ymin,ymax])\n",
    "#we can use tuples or lists.\n",
    "#by default vertical scale is determined to fit all data.\n",
    "#axis() can take other parameters as well.\n",
    "#ex: axis('tight') or axis('equal')\n",
    "#plt.savefig(filename)"
   ]
  },
  {
   "cell_type": "code",
   "execution_count": null,
   "metadata": {
    "collapsed": true
   },
   "outputs": [],
   "source": []
  }
 ],
 "metadata": {
  "kernelspec": {
   "display_name": "Python 3",
   "language": "python",
   "name": "python3"
  },
  "language_info": {
   "codemirror_mode": {
    "name": "ipython",
    "version": 3
   },
   "file_extension": ".py",
   "mimetype": "text/x-python",
   "name": "python",
   "nbconvert_exporter": "python",
   "pygments_lexer": "ipython3",
   "version": "3.6.0"
  }
 },
 "nbformat": 4,
 "nbformat_minor": 2
}
